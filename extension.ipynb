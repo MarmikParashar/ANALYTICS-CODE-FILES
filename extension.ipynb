{
 "cells": [
  {
   "cell_type": "code",
   "execution_count": 1,
   "metadata": {},
   "outputs": [],
   "source": [
    "# Analytics Assignment 3"
   ]
  },
  {
   "cell_type": "code",
   "execution_count": 18,
   "metadata": {},
   "outputs": [
    {
     "name": "stdout",
     "output_type": "stream",
     "text": [
      "PDF at 490 grams: 0.024197072451914336\n",
      "PDF at 510 grams: 0.024197072451914336\n",
      "CDF for weights less than 495 grams: 0.3085375387259869\n",
      "CDF for weights less than 520 grams: 0.9772498680518208\n"
     ]
    }
   ],
   "source": [
    "'''\n",
    "Q1 \n",
    "In a factory, the weights of a product are normally distributed with a mean of 500 grams and a standard deviation of 10 grams.\n",
    "    1. Calculate the probability density function (PDF) at 490 grams and 510 grams. What do these values represent?\n",
    "    2. Use the cumulative distribution function (CDF) to find the probability that a randomly chosen product weighs less than 495 grams.\n",
    "    3. Calculate the CDF at 520 grams and interpret what this probability represents in this context.\n",
    "'''\n",
    "# Importing Libraries\n",
    "import numpy as np\n",
    "import matplotlib.pyplot as plt\n",
    "from scipy.stats import norm, poisson\n",
    "\n",
    "# Give Values\n",
    "mean = 500\n",
    "std = 10\n",
    "\n",
    "# Define the range for our x-axis\n",
    "x = np.linspace(460, 540, 1000)\n",
    "\n",
    "# 1. Calculate the PDF at 490 grams and 510 grams\n",
    "pdf_490 = norm.pdf(490, mean, std)\n",
    "pdf_510 = norm.pdf(510, mean, std)\n",
    "\n",
    "# 2. Calculate the CDF for weights less than 495 grams\n",
    "cdf_495 = norm.cdf(495, mean, std)\n",
    "\n",
    "# 3. Calculate the CDF for weights less than 520 grams\n",
    "cdf_520 = norm.cdf(520, mean, std)\n",
    "\n",
    "# Output the results\n",
    "print(\"PDF at 490 grams:\", pdf_490)\n",
    "print(\"PDF at 510 grams:\", pdf_510)\n",
    "print(\"CDF for weights less than 495 grams:\", cdf_495)\n",
    "print(\"CDF for weights less than 520 grams:\", cdf_520)\n"
   ]
  },
  {
   "cell_type": "code",
   "execution_count": 17,
   "metadata": {},
   "outputs": [
    {
     "name": "stdout",
     "output_type": "stream",
     "text": [
      "PDF at 490 grams: 0.024197072451914336\n",
      "PDF at 510 grams: 0.024197072451914336\n",
      "CDF for weights less than 495 grams: 0.3085375387259869\n",
      "CDF for weights less than 520 grams: 0.9772498680518208\n"
     ]
    }
   ],
   "source": [
    "\n",
    "'''\n",
    "Q2\n",
    "The height of adult men in a certain country follows a normal distribution with a mean of 175 cm and a standard deviation of 8 cm.\n",
    "    1. Calculate the probability that a randomly chosen man is taller than 180 cm.\n",
    "    2. Using the CDF, determine the probability that a randomly chosen man’s height lies between 165 cm and 185 cm.\n",
    "    3. Find the height at which the CDF is equal to 0.95 (i.e., the 95th percentile). What does this height mean in this context?\n",
    "'''\n",
    "\n",
    "from scipy.stats import norm\n",
    "\n",
    "# Given parameters for the normal distribution\n",
    "mean = 175\n",
    "std_dev = 8\n",
    "\n",
    "# 1. Probability that a man is taller than 180 cm\n",
    "prob_taller_180 = 1 - norm.cdf(180, mean, std_dev)\n",
    "\n",
    "# 2. Probability that a man's height lies between 165 cm and 185 cm\n",
    "prob_between_165_185 = norm.cdf(185, mean, std_dev) - norm.cdf(165, mean, std_dev)\n",
    "\n",
    "# 3. Calculate the 95th percentile (height at which CDF is 0.95)\n",
    "height_95th_percentile = norm.ppf(0.95, mean, std_dev)\n",
    "\n",
    "# Output the results\n",
    "print(\"Probability that a man is taller than 180 cm:\", prob_taller_180)\n",
    "print(\"Probability that a man's height lies between 165 cm and 185 cm:\", prob_between_165_185)\n",
    "print(\"Height at the 95th percentile:\", height_95th_percentile)\n",
    "\n"
   ]
  },
  {
   "cell_type": "code",
   "execution_count": null,
   "metadata": {},
   "outputs": [],
   "source": []
  }
 ],
 "metadata": {
  "kernelspec": {
   "display_name": "Python 3",
   "language": "python",
   "name": "python3"
  },
  "language_info": {
   "codemirror_mode": {
    "name": "ipython",
    "version": 3
   },
   "file_extension": ".py",
   "mimetype": "text/x-python",
   "name": "python",
   "nbconvert_exporter": "python",
   "pygments_lexer": "ipython3",
   "version": "3.12.5"
  }
 },
 "nbformat": 4,
 "nbformat_minor": 2
}
